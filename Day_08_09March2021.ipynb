{
 "cells": [
  {
   "cell_type": "markdown",
   "metadata": {},
   "source": [
    "### GOOD MORNING\n",
    "#### Today's Topics\n",
    "- Regular Expressions\n",
    "- Lambda functions\n",
    "- map() function\n",
    "- filter() function"
   ]
  },
  {
   "cell_type": "markdown",
   "metadata": {},
   "source": [
    "### Regular Expressions\n",
    "- it is a sequence of characters which defines the search pattern"
   ]
  },
  {
   "cell_type": "code",
   "execution_count": 1,
   "metadata": {},
   "outputs": [],
   "source": [
    "import re"
   ]
  },
  {
   "cell_type": "code",
   "execution_count": 2,
   "metadata": {},
   "outputs": [],
   "source": [
    "# ^p....n$\n",
    "# python --->matched\n",
    "# picnic ---->not matched\n",
    "# plane ---->not matched\n",
    " # popup ---->not matched\n",
    "# ppoonn ---->matched"
   ]
  },
  {
   "cell_type": "markdown",
   "metadata": {},
   "source": [
    "### syntax\n",
    "- re.methood(pattern,string)"
   ]
  },
  {
   "cell_type": "code",
   "execution_count": 5,
   "metadata": {},
   "outputs": [
    {
     "name": "stdout",
     "output_type": "stream",
     "text": [
      "not matched\n"
     ]
    }
   ],
   "source": [
    "import re\n",
    "\n",
    "pattern = '^a...e$'\n",
    "str1 = 'apples'\n",
    "result = re.match(pattern,str1)\n",
    "if result:\n",
    "    print(\"matched successfulley\")\n",
    "else:\n",
    "    print(\"not matched\")"
   ]
  },
  {
   "cell_type": "markdown",
   "metadata": {},
   "source": [
    "- [],^,*,$,(),{},\\,|,+,.\n",
    "- \\A,\\s,\\D"
   ]
  },
  {
   "cell_type": "code",
   "execution_count": 8,
   "metadata": {},
   "outputs": [
    {
     "data": {
      "text/plain": [
       "['The',\n",
       " 'Taj',\n",
       " 'Mahal',\n",
       " 'is',\n",
       " 'an',\n",
       " 'ivory-white',\n",
       " 'marble',\n",
       " 'mausoleum',\n",
       " 'on',\n",
       " 'the',\n",
       " 'southern',\n",
       " 'bank',\n",
       " 'of',\n",
       " 'the',\n",
       " 'river',\n",
       " 'Yamuna',\n",
       " 'in',\n",
       " 'the',\n",
       " 'Indian',\n",
       " 'city',\n",
       " 'of',\n",
       " 'Agra.',\n",
       " 'It',\n",
       " 'was',\n",
       " 'commissioned',\n",
       " 'in',\n",
       " '1632',\n",
       " 'by',\n",
       " 'the',\n",
       " 'Mughal',\n",
       " 'emperor',\n",
       " 'Shah',\n",
       " 'Jahan',\n",
       " 'to',\n",
       " 'house',\n",
       " 'the',\n",
       " 'tomb',\n",
       " 'of',\n",
       " 'his',\n",
       " 'favourite',\n",
       " 'wife,',\n",
       " 'Mumtaz',\n",
       " 'Mahal;',\n",
       " 'it',\n",
       " 'also',\n",
       " 'houses',\n",
       " 'the',\n",
       " 'tomb',\n",
       " 'of',\n",
       " 'Shah',\n",
       " 'Jahan',\n",
       " 'himself']"
      ]
     },
     "execution_count": 8,
     "metadata": {},
     "output_type": "execute_result"
    }
   ],
   "source": [
    "para = \"\"\"The Taj Mahal is an ivory-white marble\n",
    "mausoleum on the southern bank of the river Yamuna in the Indian city of Agra.\n",
    "It was commissioned in 1632 by the Mughal emperor Shah Jahan\n",
    "to house the tomb of his favourite wife,\n",
    "Mumtaz Mahal; it also houses the tomb of Shah Jahan himself\"\"\".split()\n",
    "para"
   ]
  },
  {
   "cell_type": "code",
   "execution_count": 9,
   "metadata": {},
   "outputs": [
    {
     "name": "stdout",
     "output_type": "stream",
     "text": [
      "[]\n",
      "[]\n",
      "[]\n",
      "[]\n",
      "[]\n",
      "[]\n",
      "[]\n",
      "[]\n",
      "[]\n",
      "[]\n",
      "[]\n",
      "[]\n",
      "[]\n",
      "[]\n",
      "[]\n",
      "[]\n",
      "[]\n",
      "[]\n",
      "[]\n",
      "[]\n",
      "[]\n",
      "[]\n",
      "[]\n",
      "[]\n",
      "[]\n",
      "[]\n",
      "['1']\n",
      "[]\n",
      "[]\n",
      "[]\n",
      "[]\n",
      "[]\n",
      "[]\n",
      "[]\n",
      "[]\n",
      "[]\n",
      "[]\n",
      "[]\n",
      "[]\n",
      "[]\n",
      "[]\n",
      "[]\n",
      "[]\n",
      "[]\n",
      "[]\n",
      "[]\n",
      "[]\n",
      "[]\n",
      "[]\n",
      "[]\n",
      "[]\n",
      "[]\n"
     ]
    }
   ],
   "source": [
    "pattern = '^\\d'\n",
    "import re\n",
    "for str in para:\n",
    "    print(re.findall(pattern,str))"
   ]
  },
  {
   "cell_type": "markdown",
   "metadata": {},
   "source": [
    "### Pattern for finding our given indian number is valid or not valid\n",
    "- case 1:\n",
    "    - 10 digits\n",
    "    - [6-9] -starting\n",
    "- case 2:\n",
    "    - +91 strated with\n",
    "    - 10 numbers\n",
    "    - [6-9]\n",
    "- case 3\n",
    "    - starts with 0\n",
    "    - [6-9]\n",
    "    - 10 numbers"
   ]
  },
  {
   "cell_type": "code",
   "execution_count": 13,
   "metadata": {},
   "outputs": [
    {
     "name": "stdout",
     "output_type": "stream",
     "text": [
      "enter no+919912098765\n",
      "valid\n"
     ]
    }
   ],
   "source": [
    "mbno = input('enter no')\n",
    "pattern = '^[6-9]\\d{9}$|^[+][9][1][6-9]\\d{9}$'\n",
    "\n",
    "verify = re.match(pattern,mbno)\n",
    "if verify:\n",
    "    print(\"valid\")\n",
    "else:\n",
    "    print(\"invalid\")"
   ]
  },
  {
   "cell_type": "code",
   "execution_count": 14,
   "metadata": {},
   "outputs": [],
   "source": [
    "## Find the email is valid or not"
   ]
  },
  {
   "cell_type": "markdown",
   "metadata": {},
   "source": [
    "### Lambda function\n",
    "- syntax -->lambda arguments:expression"
   ]
  },
  {
   "cell_type": "code",
   "execution_count": 16,
   "metadata": {},
   "outputs": [
    {
     "data": {
      "text/plain": [
       "484"
      ]
     },
     "execution_count": 16,
     "metadata": {},
     "output_type": "execute_result"
    }
   ],
   "source": [
    "sqrt = lambda a:a**2\n",
    "sqrt(22)"
   ]
  },
  {
   "cell_type": "code",
   "execution_count": 17,
   "metadata": {},
   "outputs": [],
   "source": [
    "#map()\n",
    "#map(function name,iterable)"
   ]
  },
  {
   "cell_type": "code",
   "execution_count": 20,
   "metadata": {},
   "outputs": [
    {
     "data": {
      "text/plain": [
       "4"
      ]
     },
     "execution_count": 20,
     "metadata": {},
     "output_type": "execute_result"
    }
   ],
   "source": [
    "def sqrt1(n):\n",
    "    return n**2\n",
    "sqrt1(2)"
   ]
  },
  {
   "cell_type": "code",
   "execution_count": 19,
   "metadata": {},
   "outputs": [
    {
     "data": {
      "text/plain": [
       "[1, 4, 9, 16, 25, 36, 49, 64, 81, 100]"
      ]
     },
     "execution_count": 19,
     "metadata": {},
     "output_type": "execute_result"
    }
   ],
   "source": [
    "def sqrt1(n):\n",
    "    return n**2\n",
    "\n",
    "a = [1,2,3,4,5,6,7,8,9,10]\n",
    "\n",
    "list(map(sqrt1,a))"
   ]
  },
  {
   "cell_type": "code",
   "execution_count": 22,
   "metadata": {},
   "outputs": [
    {
     "data": {
      "text/plain": [
       "(1, 4, 9, 16, 25, 36, 49, 64, 81, 100)"
      ]
     },
     "execution_count": 22,
     "metadata": {},
     "output_type": "execute_result"
    }
   ],
   "source": [
    "tuple(map(sqrt1,a))"
   ]
  },
  {
   "cell_type": "code",
   "execution_count": 23,
   "metadata": {},
   "outputs": [
    {
     "data": {
      "text/plain": [
       "[1, 4, 9, 16, 25, 36, 49, 64, 81, 100]"
      ]
     },
     "execution_count": 23,
     "metadata": {},
     "output_type": "execute_result"
    }
   ],
   "source": [
    "list(map(lambda n:n**2,a))"
   ]
  },
  {
   "cell_type": "code",
   "execution_count": null,
   "metadata": {},
   "outputs": [],
   "source": []
  }
 ],
 "metadata": {
  "kernelspec": {
   "display_name": "Python 3",
   "language": "python",
   "name": "python3"
  },
  "language_info": {
   "codemirror_mode": {
    "name": "ipython",
    "version": 3
   },
   "file_extension": ".py",
   "mimetype": "text/x-python",
   "name": "python",
   "nbconvert_exporter": "python",
   "pygments_lexer": "ipython3",
   "version": "3.7.3"
  }
 },
 "nbformat": 4,
 "nbformat_minor": 2
}
