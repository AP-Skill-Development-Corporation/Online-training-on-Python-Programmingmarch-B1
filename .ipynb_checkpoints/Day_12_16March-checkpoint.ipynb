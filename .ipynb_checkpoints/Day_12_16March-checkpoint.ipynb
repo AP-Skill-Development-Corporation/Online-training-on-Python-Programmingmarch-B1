{
 "cells": [
  {
   "cell_type": "markdown",
   "metadata": {},
   "source": [
    "# Pandas Continue.."
   ]
  },
  {
   "cell_type": "code",
   "execution_count": 2,
   "metadata": {},
   "outputs": [],
   "source": [
    "import pandas as pd\n",
    "import numpy as np"
   ]
  },
  {
   "cell_type": "code",
   "execution_count": 3,
   "metadata": {},
   "outputs": [],
   "source": [
    "data = pd.DataFrame(np.arange(16).reshape((4,4)), index= ['florida', 'canada','New York', 'Us'],\n",
    "                   columns=['one','two','three','four'])"
   ]
  },
  {
   "cell_type": "code",
   "execution_count": 4,
   "metadata": {},
   "outputs": [
    {
     "data": {
      "text/html": [
       "<div>\n",
       "<style scoped>\n",
       "    .dataframe tbody tr th:only-of-type {\n",
       "        vertical-align: middle;\n",
       "    }\n",
       "\n",
       "    .dataframe tbody tr th {\n",
       "        vertical-align: top;\n",
       "    }\n",
       "\n",
       "    .dataframe thead th {\n",
       "        text-align: right;\n",
       "    }\n",
       "</style>\n",
       "<table border=\"1\" class=\"dataframe\">\n",
       "  <thead>\n",
       "    <tr style=\"text-align: right;\">\n",
       "      <th></th>\n",
       "      <th>one</th>\n",
       "      <th>two</th>\n",
       "      <th>three</th>\n",
       "      <th>four</th>\n",
       "    </tr>\n",
       "  </thead>\n",
       "  <tbody>\n",
       "    <tr>\n",
       "      <th>florida</th>\n",
       "      <td>0</td>\n",
       "      <td>1</td>\n",
       "      <td>2</td>\n",
       "      <td>3</td>\n",
       "    </tr>\n",
       "    <tr>\n",
       "      <th>canada</th>\n",
       "      <td>4</td>\n",
       "      <td>5</td>\n",
       "      <td>6</td>\n",
       "      <td>7</td>\n",
       "    </tr>\n",
       "    <tr>\n",
       "      <th>New York</th>\n",
       "      <td>8</td>\n",
       "      <td>9</td>\n",
       "      <td>10</td>\n",
       "      <td>11</td>\n",
       "    </tr>\n",
       "    <tr>\n",
       "      <th>Us</th>\n",
       "      <td>12</td>\n",
       "      <td>13</td>\n",
       "      <td>14</td>\n",
       "      <td>15</td>\n",
       "    </tr>\n",
       "  </tbody>\n",
       "</table>\n",
       "</div>"
      ],
      "text/plain": [
       "          one  two  three  four\n",
       "florida     0    1      2     3\n",
       "canada      4    5      6     7\n",
       "New York    8    9     10    11\n",
       "Us         12   13     14    15"
      ]
     },
     "execution_count": 4,
     "metadata": {},
     "output_type": "execute_result"
    }
   ],
   "source": [
    "data"
   ]
  },
  {
   "cell_type": "markdown",
   "metadata": {},
   "source": [
    "### Select with loc and Iloc\n",
    "\n",
    "Loc for labled data\n",
    "\n",
    "iloc for integer values"
   ]
  },
  {
   "cell_type": "code",
   "execution_count": 5,
   "metadata": {},
   "outputs": [
    {
     "data": {
      "text/plain": [
       "one    4\n",
       "Name: canada, dtype: int32"
      ]
     },
     "execution_count": 5,
     "metadata": {},
     "output_type": "execute_result"
    }
   ],
   "source": [
    "data.loc['canada',['one']]"
   ]
  },
  {
   "cell_type": "code",
   "execution_count": 6,
   "metadata": {},
   "outputs": [
    {
     "data": {
      "text/plain": [
       "one      4\n",
       "two      5\n",
       "three    6\n",
       "four     7\n",
       "Name: canada, dtype: int32"
      ]
     },
     "execution_count": 6,
     "metadata": {},
     "output_type": "execute_result"
    }
   ],
   "source": [
    "data.loc['canada']"
   ]
  },
  {
   "cell_type": "code",
   "execution_count": 7,
   "metadata": {},
   "outputs": [
    {
     "ename": "KeyError",
     "evalue": "1",
     "output_type": "error",
     "traceback": [
      "\u001b[1;31m---------------------------------------------------------------------------\u001b[0m",
      "\u001b[1;31mKeyError\u001b[0m                                  Traceback (most recent call last)",
      "\u001b[1;32m~\\AppData\\Roaming\\Python\\Python38\\site-packages\\pandas\\core\\indexes\\base.py\u001b[0m in \u001b[0;36mget_loc\u001b[1;34m(self, key, method, tolerance)\u001b[0m\n\u001b[0;32m   2897\u001b[0m             \u001b[1;32mtry\u001b[0m\u001b[1;33m:\u001b[0m\u001b[1;33m\u001b[0m\u001b[1;33m\u001b[0m\u001b[0m\n\u001b[1;32m-> 2898\u001b[1;33m                 \u001b[1;32mreturn\u001b[0m \u001b[0mself\u001b[0m\u001b[1;33m.\u001b[0m\u001b[0m_engine\u001b[0m\u001b[1;33m.\u001b[0m\u001b[0mget_loc\u001b[0m\u001b[1;33m(\u001b[0m\u001b[0mcasted_key\u001b[0m\u001b[1;33m)\u001b[0m\u001b[1;33m\u001b[0m\u001b[1;33m\u001b[0m\u001b[0m\n\u001b[0m\u001b[0;32m   2899\u001b[0m             \u001b[1;32mexcept\u001b[0m \u001b[0mKeyError\u001b[0m \u001b[1;32mas\u001b[0m \u001b[0merr\u001b[0m\u001b[1;33m:\u001b[0m\u001b[1;33m\u001b[0m\u001b[1;33m\u001b[0m\u001b[0m\n",
      "\u001b[1;32mpandas\\_libs\\index.pyx\u001b[0m in \u001b[0;36mpandas._libs.index.IndexEngine.get_loc\u001b[1;34m()\u001b[0m\n",
      "\u001b[1;32mpandas\\_libs\\index.pyx\u001b[0m in \u001b[0;36mpandas._libs.index.IndexEngine.get_loc\u001b[1;34m()\u001b[0m\n",
      "\u001b[1;32mpandas\\_libs\\hashtable_class_helper.pxi\u001b[0m in \u001b[0;36mpandas._libs.hashtable.PyObjectHashTable.get_item\u001b[1;34m()\u001b[0m\n",
      "\u001b[1;32mpandas\\_libs\\hashtable_class_helper.pxi\u001b[0m in \u001b[0;36mpandas._libs.hashtable.PyObjectHashTable.get_item\u001b[1;34m()\u001b[0m\n",
      "\u001b[1;31mKeyError\u001b[0m: 1",
      "\nThe above exception was the direct cause of the following exception:\n",
      "\u001b[1;31mKeyError\u001b[0m                                  Traceback (most recent call last)",
      "\u001b[1;32m<ipython-input-7-5268c5549eb8>\u001b[0m in \u001b[0;36m<module>\u001b[1;34m\u001b[0m\n\u001b[1;32m----> 1\u001b[1;33m \u001b[0mdata\u001b[0m\u001b[1;33m.\u001b[0m\u001b[0mloc\u001b[0m\u001b[1;33m[\u001b[0m\u001b[1;36m1\u001b[0m\u001b[1;33m]\u001b[0m\u001b[1;33m\u001b[0m\u001b[1;33m\u001b[0m\u001b[0m\n\u001b[0m",
      "\u001b[1;32m~\\AppData\\Roaming\\Python\\Python38\\site-packages\\pandas\\core\\indexing.py\u001b[0m in \u001b[0;36m__getitem__\u001b[1;34m(self, key)\u001b[0m\n\u001b[0;32m    877\u001b[0m \u001b[1;33m\u001b[0m\u001b[0m\n\u001b[0;32m    878\u001b[0m             \u001b[0mmaybe_callable\u001b[0m \u001b[1;33m=\u001b[0m \u001b[0mcom\u001b[0m\u001b[1;33m.\u001b[0m\u001b[0mapply_if_callable\u001b[0m\u001b[1;33m(\u001b[0m\u001b[0mkey\u001b[0m\u001b[1;33m,\u001b[0m \u001b[0mself\u001b[0m\u001b[1;33m.\u001b[0m\u001b[0mobj\u001b[0m\u001b[1;33m)\u001b[0m\u001b[1;33m\u001b[0m\u001b[1;33m\u001b[0m\u001b[0m\n\u001b[1;32m--> 879\u001b[1;33m             \u001b[1;32mreturn\u001b[0m \u001b[0mself\u001b[0m\u001b[1;33m.\u001b[0m\u001b[0m_getitem_axis\u001b[0m\u001b[1;33m(\u001b[0m\u001b[0mmaybe_callable\u001b[0m\u001b[1;33m,\u001b[0m \u001b[0maxis\u001b[0m\u001b[1;33m=\u001b[0m\u001b[0maxis\u001b[0m\u001b[1;33m)\u001b[0m\u001b[1;33m\u001b[0m\u001b[1;33m\u001b[0m\u001b[0m\n\u001b[0m\u001b[0;32m    880\u001b[0m \u001b[1;33m\u001b[0m\u001b[0m\n\u001b[0;32m    881\u001b[0m     \u001b[1;32mdef\u001b[0m \u001b[0m_is_scalar_access\u001b[0m\u001b[1;33m(\u001b[0m\u001b[0mself\u001b[0m\u001b[1;33m,\u001b[0m \u001b[0mkey\u001b[0m\u001b[1;33m:\u001b[0m \u001b[0mTuple\u001b[0m\u001b[1;33m)\u001b[0m\u001b[1;33m:\u001b[0m\u001b[1;33m\u001b[0m\u001b[1;33m\u001b[0m\u001b[0m\n",
      "\u001b[1;32m~\\AppData\\Roaming\\Python\\Python38\\site-packages\\pandas\\core\\indexing.py\u001b[0m in \u001b[0;36m_getitem_axis\u001b[1;34m(self, key, axis)\u001b[0m\n\u001b[0;32m   1108\u001b[0m         \u001b[1;31m# fall thru to straight lookup\u001b[0m\u001b[1;33m\u001b[0m\u001b[1;33m\u001b[0m\u001b[1;33m\u001b[0m\u001b[0m\n\u001b[0;32m   1109\u001b[0m         \u001b[0mself\u001b[0m\u001b[1;33m.\u001b[0m\u001b[0m_validate_key\u001b[0m\u001b[1;33m(\u001b[0m\u001b[0mkey\u001b[0m\u001b[1;33m,\u001b[0m \u001b[0maxis\u001b[0m\u001b[1;33m)\u001b[0m\u001b[1;33m\u001b[0m\u001b[1;33m\u001b[0m\u001b[0m\n\u001b[1;32m-> 1110\u001b[1;33m         \u001b[1;32mreturn\u001b[0m \u001b[0mself\u001b[0m\u001b[1;33m.\u001b[0m\u001b[0m_get_label\u001b[0m\u001b[1;33m(\u001b[0m\u001b[0mkey\u001b[0m\u001b[1;33m,\u001b[0m \u001b[0maxis\u001b[0m\u001b[1;33m=\u001b[0m\u001b[0maxis\u001b[0m\u001b[1;33m)\u001b[0m\u001b[1;33m\u001b[0m\u001b[1;33m\u001b[0m\u001b[0m\n\u001b[0m\u001b[0;32m   1111\u001b[0m \u001b[1;33m\u001b[0m\u001b[0m\n\u001b[0;32m   1112\u001b[0m     \u001b[1;32mdef\u001b[0m \u001b[0m_get_slice_axis\u001b[0m\u001b[1;33m(\u001b[0m\u001b[0mself\u001b[0m\u001b[1;33m,\u001b[0m \u001b[0mslice_obj\u001b[0m\u001b[1;33m:\u001b[0m \u001b[0mslice\u001b[0m\u001b[1;33m,\u001b[0m \u001b[0maxis\u001b[0m\u001b[1;33m:\u001b[0m \u001b[0mint\u001b[0m\u001b[1;33m)\u001b[0m\u001b[1;33m:\u001b[0m\u001b[1;33m\u001b[0m\u001b[1;33m\u001b[0m\u001b[0m\n",
      "\u001b[1;32m~\\AppData\\Roaming\\Python\\Python38\\site-packages\\pandas\\core\\indexing.py\u001b[0m in \u001b[0;36m_get_label\u001b[1;34m(self, label, axis)\u001b[0m\n\u001b[0;32m   1057\u001b[0m     \u001b[1;32mdef\u001b[0m \u001b[0m_get_label\u001b[0m\u001b[1;33m(\u001b[0m\u001b[0mself\u001b[0m\u001b[1;33m,\u001b[0m \u001b[0mlabel\u001b[0m\u001b[1;33m,\u001b[0m \u001b[0maxis\u001b[0m\u001b[1;33m:\u001b[0m \u001b[0mint\u001b[0m\u001b[1;33m)\u001b[0m\u001b[1;33m:\u001b[0m\u001b[1;33m\u001b[0m\u001b[1;33m\u001b[0m\u001b[0m\n\u001b[0;32m   1058\u001b[0m         \u001b[1;31m# GH#5667 this will fail if the label is not present in the axis.\u001b[0m\u001b[1;33m\u001b[0m\u001b[1;33m\u001b[0m\u001b[1;33m\u001b[0m\u001b[0m\n\u001b[1;32m-> 1059\u001b[1;33m         \u001b[1;32mreturn\u001b[0m \u001b[0mself\u001b[0m\u001b[1;33m.\u001b[0m\u001b[0mobj\u001b[0m\u001b[1;33m.\u001b[0m\u001b[0mxs\u001b[0m\u001b[1;33m(\u001b[0m\u001b[0mlabel\u001b[0m\u001b[1;33m,\u001b[0m \u001b[0maxis\u001b[0m\u001b[1;33m=\u001b[0m\u001b[0maxis\u001b[0m\u001b[1;33m)\u001b[0m\u001b[1;33m\u001b[0m\u001b[1;33m\u001b[0m\u001b[0m\n\u001b[0m\u001b[0;32m   1060\u001b[0m \u001b[1;33m\u001b[0m\u001b[0m\n\u001b[0;32m   1061\u001b[0m     \u001b[1;32mdef\u001b[0m \u001b[0m_handle_lowerdim_multi_index_axis0\u001b[0m\u001b[1;33m(\u001b[0m\u001b[0mself\u001b[0m\u001b[1;33m,\u001b[0m \u001b[0mtup\u001b[0m\u001b[1;33m:\u001b[0m \u001b[0mTuple\u001b[0m\u001b[1;33m)\u001b[0m\u001b[1;33m:\u001b[0m\u001b[1;33m\u001b[0m\u001b[1;33m\u001b[0m\u001b[0m\n",
      "\u001b[1;32m~\\AppData\\Roaming\\Python\\Python38\\site-packages\\pandas\\core\\generic.py\u001b[0m in \u001b[0;36mxs\u001b[1;34m(self, key, axis, level, drop_level)\u001b[0m\n\u001b[0;32m   3491\u001b[0m             \u001b[0mloc\u001b[0m\u001b[1;33m,\u001b[0m \u001b[0mnew_index\u001b[0m \u001b[1;33m=\u001b[0m \u001b[0mself\u001b[0m\u001b[1;33m.\u001b[0m\u001b[0mindex\u001b[0m\u001b[1;33m.\u001b[0m\u001b[0mget_loc_level\u001b[0m\u001b[1;33m(\u001b[0m\u001b[0mkey\u001b[0m\u001b[1;33m,\u001b[0m \u001b[0mdrop_level\u001b[0m\u001b[1;33m=\u001b[0m\u001b[0mdrop_level\u001b[0m\u001b[1;33m)\u001b[0m\u001b[1;33m\u001b[0m\u001b[1;33m\u001b[0m\u001b[0m\n\u001b[0;32m   3492\u001b[0m         \u001b[1;32melse\u001b[0m\u001b[1;33m:\u001b[0m\u001b[1;33m\u001b[0m\u001b[1;33m\u001b[0m\u001b[0m\n\u001b[1;32m-> 3493\u001b[1;33m             \u001b[0mloc\u001b[0m \u001b[1;33m=\u001b[0m \u001b[0mself\u001b[0m\u001b[1;33m.\u001b[0m\u001b[0mindex\u001b[0m\u001b[1;33m.\u001b[0m\u001b[0mget_loc\u001b[0m\u001b[1;33m(\u001b[0m\u001b[0mkey\u001b[0m\u001b[1;33m)\u001b[0m\u001b[1;33m\u001b[0m\u001b[1;33m\u001b[0m\u001b[0m\n\u001b[0m\u001b[0;32m   3494\u001b[0m \u001b[1;33m\u001b[0m\u001b[0m\n\u001b[0;32m   3495\u001b[0m             \u001b[1;32mif\u001b[0m \u001b[0misinstance\u001b[0m\u001b[1;33m(\u001b[0m\u001b[0mloc\u001b[0m\u001b[1;33m,\u001b[0m \u001b[0mnp\u001b[0m\u001b[1;33m.\u001b[0m\u001b[0mndarray\u001b[0m\u001b[1;33m)\u001b[0m\u001b[1;33m:\u001b[0m\u001b[1;33m\u001b[0m\u001b[1;33m\u001b[0m\u001b[0m\n",
      "\u001b[1;32m~\\AppData\\Roaming\\Python\\Python38\\site-packages\\pandas\\core\\indexes\\base.py\u001b[0m in \u001b[0;36mget_loc\u001b[1;34m(self, key, method, tolerance)\u001b[0m\n\u001b[0;32m   2898\u001b[0m                 \u001b[1;32mreturn\u001b[0m \u001b[0mself\u001b[0m\u001b[1;33m.\u001b[0m\u001b[0m_engine\u001b[0m\u001b[1;33m.\u001b[0m\u001b[0mget_loc\u001b[0m\u001b[1;33m(\u001b[0m\u001b[0mcasted_key\u001b[0m\u001b[1;33m)\u001b[0m\u001b[1;33m\u001b[0m\u001b[1;33m\u001b[0m\u001b[0m\n\u001b[0;32m   2899\u001b[0m             \u001b[1;32mexcept\u001b[0m \u001b[0mKeyError\u001b[0m \u001b[1;32mas\u001b[0m \u001b[0merr\u001b[0m\u001b[1;33m:\u001b[0m\u001b[1;33m\u001b[0m\u001b[1;33m\u001b[0m\u001b[0m\n\u001b[1;32m-> 2900\u001b[1;33m                 \u001b[1;32mraise\u001b[0m \u001b[0mKeyError\u001b[0m\u001b[1;33m(\u001b[0m\u001b[0mkey\u001b[0m\u001b[1;33m)\u001b[0m \u001b[1;32mfrom\u001b[0m \u001b[0merr\u001b[0m\u001b[1;33m\u001b[0m\u001b[1;33m\u001b[0m\u001b[0m\n\u001b[0m\u001b[0;32m   2901\u001b[0m \u001b[1;33m\u001b[0m\u001b[0m\n\u001b[0;32m   2902\u001b[0m         \u001b[1;32mif\u001b[0m \u001b[0mtolerance\u001b[0m \u001b[1;32mis\u001b[0m \u001b[1;32mnot\u001b[0m \u001b[1;32mNone\u001b[0m\u001b[1;33m:\u001b[0m\u001b[1;33m\u001b[0m\u001b[1;33m\u001b[0m\u001b[0m\n",
      "\u001b[1;31mKeyError\u001b[0m: 1"
     ]
    }
   ],
   "source": [
    "data.loc[1]"
   ]
  },
  {
   "cell_type": "code",
   "execution_count": 8,
   "metadata": {},
   "outputs": [
    {
     "name": "stdout",
     "output_type": "stream",
     "text": [
      "Help on _LocIndexer in module pandas.core.indexing object:\n",
      "\n",
      "class _LocIndexer(_LocationIndexer)\n",
      " |  Access a group of rows and columns by label(s) or a boolean array.\n",
      " |  \n",
      " |  ``.loc[]`` is primarily label based, but may also be used with a\n",
      " |  boolean array.\n",
      " |  \n",
      " |  Allowed inputs are:\n",
      " |  \n",
      " |  - A single label, e.g. ``5`` or ``'a'``, (note that ``5`` is\n",
      " |    interpreted as a *label* of the index, and **never** as an\n",
      " |    integer position along the index).\n",
      " |  - A list or array of labels, e.g. ``['a', 'b', 'c']``.\n",
      " |  - A slice object with labels, e.g. ``'a':'f'``.\n",
      " |  \n",
      " |    .. warning:: Note that contrary to usual python slices, **both** the\n",
      " |        start and the stop are included\n",
      " |  \n",
      " |  - A boolean array of the same length as the axis being sliced,\n",
      " |    e.g. ``[True, False, True]``.\n",
      " |  - A ``callable`` function with one argument (the calling Series or\n",
      " |    DataFrame) and that returns valid output for indexing (one of the above)\n",
      " |  \n",
      " |  See more at :ref:`Selection by Label <indexing.label>`\n",
      " |  \n",
      " |  Raises\n",
      " |  ------\n",
      " |  KeyError\n",
      " |      If any items are not found.\n",
      " |  \n",
      " |  See Also\n",
      " |  --------\n",
      " |  DataFrame.at : Access a single value for a row/column label pair.\n",
      " |  DataFrame.iloc : Access group of rows and columns by integer position(s).\n",
      " |  DataFrame.xs : Returns a cross-section (row(s) or column(s)) from the\n",
      " |      Series/DataFrame.\n",
      " |  Series.loc : Access group of values using labels.\n",
      " |  \n",
      " |  Examples\n",
      " |  --------\n",
      " |  **Getting values**\n",
      " |  \n",
      " |  >>> df = pd.DataFrame([[1, 2], [4, 5], [7, 8]],\n",
      " |  ...      index=['cobra', 'viper', 'sidewinder'],\n",
      " |  ...      columns=['max_speed', 'shield'])\n",
      " |  >>> df\n",
      " |              max_speed  shield\n",
      " |  cobra               1       2\n",
      " |  viper               4       5\n",
      " |  sidewinder          7       8\n",
      " |  \n",
      " |  Single label. Note this returns the row as a Series.\n",
      " |  \n",
      " |  >>> df.loc['viper']\n",
      " |  max_speed    4\n",
      " |  shield       5\n",
      " |  Name: viper, dtype: int64\n",
      " |  \n",
      " |  List of labels. Note using ``[[]]`` returns a DataFrame.\n",
      " |  \n",
      " |  >>> df.loc[['viper', 'sidewinder']]\n",
      " |              max_speed  shield\n",
      " |  viper               4       5\n",
      " |  sidewinder          7       8\n",
      " |  \n",
      " |  Single label for row and column\n",
      " |  \n",
      " |  >>> df.loc['cobra', 'shield']\n",
      " |  2\n",
      " |  \n",
      " |  Slice with labels for row and single label for column. As mentioned\n",
      " |  above, note that both the start and stop of the slice are included.\n",
      " |  \n",
      " |  >>> df.loc['cobra':'viper', 'max_speed']\n",
      " |  cobra    1\n",
      " |  viper    4\n",
      " |  Name: max_speed, dtype: int64\n",
      " |  \n",
      " |  Boolean list with the same length as the row axis\n",
      " |  \n",
      " |  >>> df.loc[[False, False, True]]\n",
      " |              max_speed  shield\n",
      " |  sidewinder          7       8\n",
      " |  \n",
      " |  Conditional that returns a boolean Series\n",
      " |  \n",
      " |  >>> df.loc[df['shield'] > 6]\n",
      " |              max_speed  shield\n",
      " |  sidewinder          7       8\n",
      " |  \n",
      " |  Conditional that returns a boolean Series with column labels specified\n",
      " |  \n",
      " |  >>> df.loc[df['shield'] > 6, ['max_speed']]\n",
      " |              max_speed\n",
      " |  sidewinder          7\n",
      " |  \n",
      " |  Callable that returns a boolean Series\n",
      " |  \n",
      " |  >>> df.loc[lambda df: df['shield'] == 8]\n",
      " |              max_speed  shield\n",
      " |  sidewinder          7       8\n",
      " |  \n",
      " |  **Setting values**\n",
      " |  \n",
      " |  Set value for all items matching the list of labels\n",
      " |  \n",
      " |  >>> df.loc[['viper', 'sidewinder'], ['shield']] = 50\n",
      " |  >>> df\n",
      " |              max_speed  shield\n",
      " |  cobra               1       2\n",
      " |  viper               4      50\n",
      " |  sidewinder          7      50\n",
      " |  \n",
      " |  Set value for an entire row\n",
      " |  \n",
      " |  >>> df.loc['cobra'] = 10\n",
      " |  >>> df\n",
      " |              max_speed  shield\n",
      " |  cobra              10      10\n",
      " |  viper               4      50\n",
      " |  sidewinder          7      50\n",
      " |  \n",
      " |  Set value for an entire column\n",
      " |  \n",
      " |  >>> df.loc[:, 'max_speed'] = 30\n",
      " |  >>> df\n",
      " |              max_speed  shield\n",
      " |  cobra              30      10\n",
      " |  viper              30      50\n",
      " |  sidewinder         30      50\n",
      " |  \n",
      " |  Set value for rows matching callable condition\n",
      " |  \n",
      " |  >>> df.loc[df['shield'] > 35] = 0\n",
      " |  >>> df\n",
      " |              max_speed  shield\n",
      " |  cobra              30      10\n",
      " |  viper               0       0\n",
      " |  sidewinder          0       0\n",
      " |  \n",
      " |  **Getting values on a DataFrame with an index that has integer labels**\n",
      " |  \n",
      " |  Another example using integers for the index\n",
      " |  \n",
      " |  >>> df = pd.DataFrame([[1, 2], [4, 5], [7, 8]],\n",
      " |  ...      index=[7, 8, 9], columns=['max_speed', 'shield'])\n",
      " |  >>> df\n",
      " |     max_speed  shield\n",
      " |  7          1       2\n",
      " |  8          4       5\n",
      " |  9          7       8\n",
      " |  \n",
      " |  Slice with integer labels for rows. As mentioned above, note that both\n",
      " |  the start and stop of the slice are included.\n",
      " |  \n",
      " |  >>> df.loc[7:9]\n",
      " |     max_speed  shield\n",
      " |  7          1       2\n",
      " |  8          4       5\n",
      " |  9          7       8\n",
      " |  \n",
      " |  **Getting values with a MultiIndex**\n",
      " |  \n",
      " |  A number of examples using a DataFrame with a MultiIndex\n",
      " |  \n",
      " |  >>> tuples = [\n",
      " |  ...    ('cobra', 'mark i'), ('cobra', 'mark ii'),\n",
      " |  ...    ('sidewinder', 'mark i'), ('sidewinder', 'mark ii'),\n",
      " |  ...    ('viper', 'mark ii'), ('viper', 'mark iii')\n",
      " |  ... ]\n",
      " |  >>> index = pd.MultiIndex.from_tuples(tuples)\n",
      " |  >>> values = [[12, 2], [0, 4], [10, 20],\n",
      " |  ...         [1, 4], [7, 1], [16, 36]]\n",
      " |  >>> df = pd.DataFrame(values, columns=['max_speed', 'shield'], index=index)\n",
      " |  >>> df\n",
      " |                       max_speed  shield\n",
      " |  cobra      mark i           12       2\n",
      " |             mark ii           0       4\n",
      " |  sidewinder mark i           10      20\n",
      " |             mark ii           1       4\n",
      " |  viper      mark ii           7       1\n",
      " |             mark iii         16      36\n",
      " |  \n",
      " |  Single label. Note this returns a DataFrame with a single index.\n",
      " |  \n",
      " |  >>> df.loc['cobra']\n",
      " |           max_speed  shield\n",
      " |  mark i          12       2\n",
      " |  mark ii          0       4\n",
      " |  \n",
      " |  Single index tuple. Note this returns a Series.\n",
      " |  \n",
      " |  >>> df.loc[('cobra', 'mark ii')]\n",
      " |  max_speed    0\n",
      " |  shield       4\n",
      " |  Name: (cobra, mark ii), dtype: int64\n",
      " |  \n",
      " |  Single label for row and column. Similar to passing in a tuple, this\n",
      " |  returns a Series.\n",
      " |  \n",
      " |  >>> df.loc['cobra', 'mark i']\n",
      " |  max_speed    12\n",
      " |  shield        2\n",
      " |  Name: (cobra, mark i), dtype: int64\n",
      " |  \n",
      " |  Single tuple. Note using ``[[]]`` returns a DataFrame.\n",
      " |  \n",
      " |  >>> df.loc[[('cobra', 'mark ii')]]\n",
      " |                 max_speed  shield\n",
      " |  cobra mark ii          0       4\n",
      " |  \n",
      " |  Single tuple for the index with a single label for the column\n",
      " |  \n",
      " |  >>> df.loc[('cobra', 'mark i'), 'shield']\n",
      " |  2\n",
      " |  \n",
      " |  Slice from index tuple to single label\n",
      " |  \n",
      " |  >>> df.loc[('cobra', 'mark i'):'viper']\n",
      " |                       max_speed  shield\n",
      " |  cobra      mark i           12       2\n",
      " |             mark ii           0       4\n",
      " |  sidewinder mark i           10      20\n",
      " |             mark ii           1       4\n",
      " |  viper      mark ii           7       1\n",
      " |             mark iii         16      36\n",
      " |  \n",
      " |  Slice from index tuple to index tuple\n",
      " |  \n",
      " |  >>> df.loc[('cobra', 'mark i'):('viper', 'mark ii')]\n",
      " |                      max_speed  shield\n",
      " |  cobra      mark i          12       2\n",
      " |             mark ii          0       4\n",
      " |  sidewinder mark i          10      20\n",
      " |             mark ii          1       4\n",
      " |  viper      mark ii          7       1\n",
      " |  \n",
      " |  Method resolution order:\n",
      " |      _LocIndexer\n",
      " |      _LocationIndexer\n",
      " |      pandas._libs.indexing._NDFrameIndexerBase\n",
      " |      builtins.object\n",
      " |  \n",
      " |  Data and other attributes defined here:\n",
      " |  \n",
      " |  __annotations__ = {'_takeable': <class 'bool'>}\n",
      " |  \n",
      " |  ----------------------------------------------------------------------\n",
      " |  Methods inherited from _LocationIndexer:\n",
      " |  \n",
      " |  __call__(self, axis=None)\n",
      " |      Call self as a function.\n",
      " |  \n",
      " |  __getitem__(self, key)\n",
      " |  \n",
      " |  __setitem__(self, key, value)\n",
      " |  \n",
      " |  ----------------------------------------------------------------------\n",
      " |  Data descriptors inherited from _LocationIndexer:\n",
      " |  \n",
      " |  __dict__\n",
      " |      dictionary for instance variables (if defined)\n",
      " |  \n",
      " |  __weakref__\n",
      " |      list of weak references to the object (if defined)\n",
      " |  \n",
      " |  ----------------------------------------------------------------------\n",
      " |  Data and other attributes inherited from _LocationIndexer:\n",
      " |  \n",
      " |  axis = None\n",
      " |  \n",
      " |  ----------------------------------------------------------------------\n",
      " |  Methods inherited from pandas._libs.indexing._NDFrameIndexerBase:\n",
      " |  \n",
      " |  __init__(self, /, *args, **kwargs)\n",
      " |      Initialize self.  See help(type(self)) for accurate signature.\n",
      " |  \n",
      " |  __reduce__ = __reduce_cython__(...)\n",
      " |  \n",
      " |  __setstate__ = __setstate_cython__(...)\n",
      " |  \n",
      " |  ----------------------------------------------------------------------\n",
      " |  Static methods inherited from pandas._libs.indexing._NDFrameIndexerBase:\n",
      " |  \n",
      " |  __new__(*args, **kwargs) from builtins.type\n",
      " |      Create and return a new object.  See help(type) for accurate signature.\n",
      " |  \n",
      " |  ----------------------------------------------------------------------\n",
      " |  Data descriptors inherited from pandas._libs.indexing._NDFrameIndexerBase:\n",
      " |  \n",
      " |  name\n",
      " |  \n",
      " |  ndim\n",
      " |  \n",
      " |  obj\n",
      "\n"
     ]
    }
   ],
   "source": [
    "help(data.loc)"
   ]
  },
  {
   "cell_type": "code",
   "execution_count": 13,
   "metadata": {},
   "outputs": [],
   "source": [
    "data2 = pd.DataFrame([[100,200,300],[400,23,34]], index=[2,4])"
   ]
  },
  {
   "cell_type": "code",
   "execution_count": 14,
   "metadata": {},
   "outputs": [
    {
     "data": {
      "text/html": [
       "<div>\n",
       "<style scoped>\n",
       "    .dataframe tbody tr th:only-of-type {\n",
       "        vertical-align: middle;\n",
       "    }\n",
       "\n",
       "    .dataframe tbody tr th {\n",
       "        vertical-align: top;\n",
       "    }\n",
       "\n",
       "    .dataframe thead th {\n",
       "        text-align: right;\n",
       "    }\n",
       "</style>\n",
       "<table border=\"1\" class=\"dataframe\">\n",
       "  <thead>\n",
       "    <tr style=\"text-align: right;\">\n",
       "      <th></th>\n",
       "      <th>0</th>\n",
       "      <th>1</th>\n",
       "      <th>2</th>\n",
       "    </tr>\n",
       "  </thead>\n",
       "  <tbody>\n",
       "    <tr>\n",
       "      <th>2</th>\n",
       "      <td>100</td>\n",
       "      <td>200</td>\n",
       "      <td>300</td>\n",
       "    </tr>\n",
       "    <tr>\n",
       "      <th>4</th>\n",
       "      <td>400</td>\n",
       "      <td>23</td>\n",
       "      <td>34</td>\n",
       "    </tr>\n",
       "  </tbody>\n",
       "</table>\n",
       "</div>"
      ],
      "text/plain": [
       "     0    1    2\n",
       "2  100  200  300\n",
       "4  400   23   34"
      ]
     },
     "execution_count": 14,
     "metadata": {},
     "output_type": "execute_result"
    }
   ],
   "source": [
    "data2"
   ]
  },
  {
   "cell_type": "code",
   "execution_count": 16,
   "metadata": {},
   "outputs": [
    {
     "data": {
      "text/plain": [
       "0    100\n",
       "1    200\n",
       "2    300\n",
       "Name: 2, dtype: int64"
      ]
     },
     "execution_count": 16,
     "metadata": {},
     "output_type": "execute_result"
    }
   ],
   "source": [
    "data2.loc[2]"
   ]
  },
  {
   "cell_type": "code",
   "execution_count": 17,
   "metadata": {},
   "outputs": [
    {
     "data": {
      "text/html": [
       "<div>\n",
       "<style scoped>\n",
       "    .dataframe tbody tr th:only-of-type {\n",
       "        vertical-align: middle;\n",
       "    }\n",
       "\n",
       "    .dataframe tbody tr th {\n",
       "        vertical-align: top;\n",
       "    }\n",
       "\n",
       "    .dataframe thead th {\n",
       "        text-align: right;\n",
       "    }\n",
       "</style>\n",
       "<table border=\"1\" class=\"dataframe\">\n",
       "  <thead>\n",
       "    <tr style=\"text-align: right;\">\n",
       "      <th></th>\n",
       "      <th>one</th>\n",
       "      <th>two</th>\n",
       "      <th>three</th>\n",
       "      <th>four</th>\n",
       "    </tr>\n",
       "  </thead>\n",
       "  <tbody>\n",
       "    <tr>\n",
       "      <th>florida</th>\n",
       "      <td>0</td>\n",
       "      <td>1</td>\n",
       "      <td>2</td>\n",
       "      <td>3</td>\n",
       "    </tr>\n",
       "    <tr>\n",
       "      <th>canada</th>\n",
       "      <td>4</td>\n",
       "      <td>5</td>\n",
       "      <td>6</td>\n",
       "      <td>7</td>\n",
       "    </tr>\n",
       "    <tr>\n",
       "      <th>New York</th>\n",
       "      <td>8</td>\n",
       "      <td>9</td>\n",
       "      <td>10</td>\n",
       "      <td>11</td>\n",
       "    </tr>\n",
       "    <tr>\n",
       "      <th>Us</th>\n",
       "      <td>12</td>\n",
       "      <td>13</td>\n",
       "      <td>14</td>\n",
       "      <td>15</td>\n",
       "    </tr>\n",
       "  </tbody>\n",
       "</table>\n",
       "</div>"
      ],
      "text/plain": [
       "          one  two  three  four\n",
       "florida     0    1      2     3\n",
       "canada      4    5      6     7\n",
       "New York    8    9     10    11\n",
       "Us         12   13     14    15"
      ]
     },
     "execution_count": 17,
     "metadata": {},
     "output_type": "execute_result"
    }
   ],
   "source": [
    "data"
   ]
  },
  {
   "cell_type": "code",
   "execution_count": 18,
   "metadata": {},
   "outputs": [
    {
     "data": {
      "text/plain": [
       "one      0\n",
       "two      1\n",
       "three    2\n",
       "four     3\n",
       "Name: florida, dtype: int32"
      ]
     },
     "execution_count": 18,
     "metadata": {},
     "output_type": "execute_result"
    }
   ],
   "source": [
    "data.iloc[0]"
   ]
  },
  {
   "cell_type": "code",
   "execution_count": 19,
   "metadata": {},
   "outputs": [
    {
     "data": {
      "text/plain": [
       "11"
      ]
     },
     "execution_count": 19,
     "metadata": {},
     "output_type": "execute_result"
    }
   ],
   "source": [
    "data.iloc[2,3]"
   ]
  },
  {
   "cell_type": "code",
   "execution_count": 20,
   "metadata": {},
   "outputs": [
    {
     "name": "stdout",
     "output_type": "stream",
     "text": [
      "Help on _iLocIndexer in module pandas.core.indexing object:\n",
      "\n",
      "class _iLocIndexer(_LocationIndexer)\n",
      " |  Purely integer-location based indexing for selection by position.\n",
      " |  \n",
      " |  ``.iloc[]`` is primarily integer position based (from ``0`` to\n",
      " |  ``length-1`` of the axis), but may also be used with a boolean\n",
      " |  array.\n",
      " |  \n",
      " |  Allowed inputs are:\n",
      " |  \n",
      " |  - An integer, e.g. ``5``.\n",
      " |  - A list or array of integers, e.g. ``[4, 3, 0]``.\n",
      " |  - A slice object with ints, e.g. ``1:7``.\n",
      " |  - A boolean array.\n",
      " |  - A ``callable`` function with one argument (the calling Series or\n",
      " |    DataFrame) and that returns valid output for indexing (one of the above).\n",
      " |    This is useful in method chains, when you don't have a reference to the\n",
      " |    calling object, but would like to base your selection on some value.\n",
      " |  \n",
      " |  ``.iloc`` will raise ``IndexError`` if a requested indexer is\n",
      " |  out-of-bounds, except *slice* indexers which allow out-of-bounds\n",
      " |  indexing (this conforms with python/numpy *slice* semantics).\n",
      " |  \n",
      " |  See more at :ref:`Selection by Position <indexing.integer>`.\n",
      " |  \n",
      " |  See Also\n",
      " |  --------\n",
      " |  DataFrame.iat : Fast integer location scalar accessor.\n",
      " |  DataFrame.loc : Purely label-location based indexer for selection by label.\n",
      " |  Series.iloc : Purely integer-location based indexing for\n",
      " |                 selection by position.\n",
      " |  \n",
      " |  Examples\n",
      " |  --------\n",
      " |  >>> mydict = [{'a': 1, 'b': 2, 'c': 3, 'd': 4},\n",
      " |  ...           {'a': 100, 'b': 200, 'c': 300, 'd': 400},\n",
      " |  ...           {'a': 1000, 'b': 2000, 'c': 3000, 'd': 4000 }]\n",
      " |  >>> df = pd.DataFrame(mydict)\n",
      " |  >>> df\n",
      " |        a     b     c     d\n",
      " |  0     1     2     3     4\n",
      " |  1   100   200   300   400\n",
      " |  2  1000  2000  3000  4000\n",
      " |  \n",
      " |  **Indexing just the rows**\n",
      " |  \n",
      " |  With a scalar integer.\n",
      " |  \n",
      " |  >>> type(df.iloc[0])\n",
      " |  <class 'pandas.core.series.Series'>\n",
      " |  >>> df.iloc[0]\n",
      " |  a    1\n",
      " |  b    2\n",
      " |  c    3\n",
      " |  d    4\n",
      " |  Name: 0, dtype: int64\n",
      " |  \n",
      " |  With a list of integers.\n",
      " |  \n",
      " |  >>> df.iloc[[0]]\n",
      " |     a  b  c  d\n",
      " |  0  1  2  3  4\n",
      " |  >>> type(df.iloc[[0]])\n",
      " |  <class 'pandas.core.frame.DataFrame'>\n",
      " |  \n",
      " |  >>> df.iloc[[0, 1]]\n",
      " |       a    b    c    d\n",
      " |  0    1    2    3    4\n",
      " |  1  100  200  300  400\n",
      " |  \n",
      " |  With a `slice` object.\n",
      " |  \n",
      " |  >>> df.iloc[:3]\n",
      " |        a     b     c     d\n",
      " |  0     1     2     3     4\n",
      " |  1   100   200   300   400\n",
      " |  2  1000  2000  3000  4000\n",
      " |  \n",
      " |  With a boolean mask the same length as the index.\n",
      " |  \n",
      " |  >>> df.iloc[[True, False, True]]\n",
      " |        a     b     c     d\n",
      " |  0     1     2     3     4\n",
      " |  2  1000  2000  3000  4000\n",
      " |  \n",
      " |  With a callable, useful in method chains. The `x` passed\n",
      " |  to the ``lambda`` is the DataFrame being sliced. This selects\n",
      " |  the rows whose index label even.\n",
      " |  \n",
      " |  >>> df.iloc[lambda x: x.index % 2 == 0]\n",
      " |        a     b     c     d\n",
      " |  0     1     2     3     4\n",
      " |  2  1000  2000  3000  4000\n",
      " |  \n",
      " |  **Indexing both axes**\n",
      " |  \n",
      " |  You can mix the indexer types for the index and columns. Use ``:`` to\n",
      " |  select the entire axis.\n",
      " |  \n",
      " |  With scalar integers.\n",
      " |  \n",
      " |  >>> df.iloc[0, 1]\n",
      " |  2\n",
      " |  \n",
      " |  With lists of integers.\n",
      " |  \n",
      " |  >>> df.iloc[[0, 2], [1, 3]]\n",
      " |        b     d\n",
      " |  0     2     4\n",
      " |  2  2000  4000\n",
      " |  \n",
      " |  With `slice` objects.\n",
      " |  \n",
      " |  >>> df.iloc[1:3, 0:3]\n",
      " |        a     b     c\n",
      " |  1   100   200   300\n",
      " |  2  1000  2000  3000\n",
      " |  \n",
      " |  With a boolean array whose length matches the columns.\n",
      " |  \n",
      " |  >>> df.iloc[:, [True, False, True, False]]\n",
      " |        a     c\n",
      " |  0     1     3\n",
      " |  1   100   300\n",
      " |  2  1000  3000\n",
      " |  \n",
      " |  With a callable function that expects the Series or DataFrame.\n",
      " |  \n",
      " |  >>> df.iloc[:, lambda df: [0, 2]]\n",
      " |        a     c\n",
      " |  0     1     3\n",
      " |  1   100   300\n",
      " |  2  1000  3000\n",
      " |  \n",
      " |  Method resolution order:\n",
      " |      _iLocIndexer\n",
      " |      _LocationIndexer\n",
      " |      pandas._libs.indexing._NDFrameIndexerBase\n",
      " |      builtins.object\n",
      " |  \n",
      " |  Methods inherited from _LocationIndexer:\n",
      " |  \n",
      " |  __call__(self, axis=None)\n",
      " |      Call self as a function.\n",
      " |  \n",
      " |  __getitem__(self, key)\n",
      " |  \n",
      " |  __setitem__(self, key, value)\n",
      " |  \n",
      " |  ----------------------------------------------------------------------\n",
      " |  Data descriptors inherited from _LocationIndexer:\n",
      " |  \n",
      " |  __dict__\n",
      " |      dictionary for instance variables (if defined)\n",
      " |  \n",
      " |  __weakref__\n",
      " |      list of weak references to the object (if defined)\n",
      " |  \n",
      " |  ----------------------------------------------------------------------\n",
      " |  Data and other attributes inherited from _LocationIndexer:\n",
      " |  \n",
      " |  __annotations__ = {'_valid_types': <class 'str'>}\n",
      " |  \n",
      " |  axis = None\n",
      " |  \n",
      " |  ----------------------------------------------------------------------\n",
      " |  Methods inherited from pandas._libs.indexing._NDFrameIndexerBase:\n",
      " |  \n",
      " |  __init__(self, /, *args, **kwargs)\n",
      " |      Initialize self.  See help(type(self)) for accurate signature.\n",
      " |  \n",
      " |  __reduce__ = __reduce_cython__(...)\n",
      " |  \n",
      " |  __setstate__ = __setstate_cython__(...)\n",
      " |  \n",
      " |  ----------------------------------------------------------------------\n",
      " |  Static methods inherited from pandas._libs.indexing._NDFrameIndexerBase:\n",
      " |  \n",
      " |  __new__(*args, **kwargs) from builtins.type\n",
      " |      Create and return a new object.  See help(type) for accurate signature.\n",
      " |  \n",
      " |  ----------------------------------------------------------------------\n",
      " |  Data descriptors inherited from pandas._libs.indexing._NDFrameIndexerBase:\n",
      " |  \n",
      " |  name\n",
      " |  \n",
      " |  ndim\n",
      " |  \n",
      " |  obj\n",
      "\n"
     ]
    }
   ],
   "source": [
    "help(data.iloc)"
   ]
  },
  {
   "cell_type": "code",
   "execution_count": 27,
   "metadata": {},
   "outputs": [],
   "source": [
    "s1 = pd.Series([7.3,-2.5,3.4,1], index=['a','c','d','e'])\n"
   ]
  },
  {
   "cell_type": "code",
   "execution_count": 28,
   "metadata": {},
   "outputs": [],
   "source": [
    "s2 = pd.Series([-2.1,3.6,-1.5,4,3.1],index=['a','c','e','f','g'])"
   ]
  },
  {
   "cell_type": "code",
   "execution_count": 30,
   "metadata": {},
   "outputs": [
    {
     "data": {
      "text/plain": [
       "a    7.3\n",
       "c   -2.5\n",
       "d    3.4\n",
       "e    1.0\n",
       "dtype: float64"
      ]
     },
     "execution_count": 30,
     "metadata": {},
     "output_type": "execute_result"
    }
   ],
   "source": [
    "s1"
   ]
  },
  {
   "cell_type": "code",
   "execution_count": 31,
   "metadata": {},
   "outputs": [
    {
     "data": {
      "text/plain": [
       "a   -2.1\n",
       "c    3.6\n",
       "e   -1.5\n",
       "f    4.0\n",
       "g    3.1\n",
       "dtype: float64"
      ]
     },
     "execution_count": 31,
     "metadata": {},
     "output_type": "execute_result"
    }
   ],
   "source": [
    "s2"
   ]
  },
  {
   "cell_type": "code",
   "execution_count": 26,
   "metadata": {},
   "outputs": [
    {
     "data": {
      "text/plain": [
       "a    5.2\n",
       "c    1.1\n",
       "d    NaN\n",
       "e   -0.5\n",
       "f    NaN\n",
       "g    NaN\n",
       "dtype: float64"
      ]
     },
     "execution_count": 26,
     "metadata": {},
     "output_type": "execute_result"
    }
   ],
   "source": [
    "s1+s2"
   ]
  },
  {
   "cell_type": "markdown",
   "metadata": {},
   "source": [
    "### Arthimetic methods with fill values"
   ]
  },
  {
   "cell_type": "code",
   "execution_count": 33,
   "metadata": {},
   "outputs": [
    {
     "data": {
      "text/plain": [
       "a    5.2\n",
       "c    1.1\n",
       "d    3.4\n",
       "e   -0.5\n",
       "f    4.0\n",
       "g    3.1\n",
       "dtype: float64"
      ]
     },
     "execution_count": 33,
     "metadata": {},
     "output_type": "execute_result"
    }
   ],
   "source": [
    "s1.add(s2,fill_value=0)"
   ]
  },
  {
   "cell_type": "code",
   "execution_count": 35,
   "metadata": {},
   "outputs": [
    {
     "data": {
      "text/html": [
       "<div>\n",
       "<style scoped>\n",
       "    .dataframe tbody tr th:only-of-type {\n",
       "        vertical-align: middle;\n",
       "    }\n",
       "\n",
       "    .dataframe tbody tr th {\n",
       "        vertical-align: top;\n",
       "    }\n",
       "\n",
       "    .dataframe thead th {\n",
       "        text-align: right;\n",
       "    }\n",
       "</style>\n",
       "<table border=\"1\" class=\"dataframe\">\n",
       "  <thead>\n",
       "    <tr style=\"text-align: right;\">\n",
       "      <th></th>\n",
       "      <th>one</th>\n",
       "      <th>two</th>\n",
       "      <th>three</th>\n",
       "      <th>four</th>\n",
       "    </tr>\n",
       "  </thead>\n",
       "  <tbody>\n",
       "    <tr>\n",
       "      <th>florida</th>\n",
       "      <td>0</td>\n",
       "      <td>1</td>\n",
       "      <td>2</td>\n",
       "      <td>3</td>\n",
       "    </tr>\n",
       "    <tr>\n",
       "      <th>canada</th>\n",
       "      <td>4</td>\n",
       "      <td>5</td>\n",
       "      <td>6</td>\n",
       "      <td>7</td>\n",
       "    </tr>\n",
       "    <tr>\n",
       "      <th>New York</th>\n",
       "      <td>8</td>\n",
       "      <td>9</td>\n",
       "      <td>10</td>\n",
       "      <td>11</td>\n",
       "    </tr>\n",
       "    <tr>\n",
       "      <th>Us</th>\n",
       "      <td>12</td>\n",
       "      <td>13</td>\n",
       "      <td>14</td>\n",
       "      <td>15</td>\n",
       "    </tr>\n",
       "  </tbody>\n",
       "</table>\n",
       "</div>"
      ],
      "text/plain": [
       "          one  two  three  four\n",
       "florida     0    1      2     3\n",
       "canada      4    5      6     7\n",
       "New York    8    9     10    11\n",
       "Us         12   13     14    15"
      ]
     },
     "execution_count": 35,
     "metadata": {},
     "output_type": "execute_result"
    }
   ],
   "source": [
    "data"
   ]
  },
  {
   "cell_type": "code",
   "execution_count": 37,
   "metadata": {},
   "outputs": [
    {
     "data": {
      "text/plain": [
       "a   -2.1\n",
       "c    3.6\n",
       "e   -1.5\n",
       "f    4.0\n",
       "g    3.1\n",
       "dtype: float64"
      ]
     },
     "execution_count": 37,
     "metadata": {},
     "output_type": "execute_result"
    }
   ],
   "source": [
    "s2"
   ]
  },
  {
   "cell_type": "code",
   "execution_count": null,
   "metadata": {},
   "outputs": [],
   "source": []
  }
 ],
 "metadata": {
  "kernelspec": {
   "display_name": "Python 3",
   "language": "python",
   "name": "python3"
  },
  "language_info": {
   "codemirror_mode": {
    "name": "ipython",
    "version": 3
   },
   "file_extension": ".py",
   "mimetype": "text/x-python",
   "name": "python",
   "nbconvert_exporter": "python",
   "pygments_lexer": "ipython3",
   "version": "3.8.3"
  }
 },
 "nbformat": 4,
 "nbformat_minor": 4
}
