{
 "cells": [
  {
   "cell_type": "markdown",
   "metadata": {},
   "source": [
    "# Python Basics \n",
    "- Print()\n",
    "- Input()\n",
    "- key words in python\n",
    "\n",
    "## print()"
   ]
  },
  {
   "cell_type": "code",
   "execution_count": 2,
   "metadata": {},
   "outputs": [
    {
     "name": "stdout",
     "output_type": "stream",
     "text": [
      "\n",
      "Help on NoneType object:\n",
      "\n",
      "class NoneType(object)\n",
      " |  Methods defined here:\n",
      " |  \n",
      " |  __bool__(self, /)\n",
      " |      self != 0\n",
      " |  \n",
      " |  __repr__(self, /)\n",
      " |      Return repr(self).\n",
      " |  \n",
      " |  ----------------------------------------------------------------------\n",
      " |  Static methods defined here:\n",
      " |  \n",
      " |  __new__(*args, **kwargs) from builtins.type\n",
      " |      Create and return a new object.  See help(type) for accurate signature.\n",
      "\n"
     ]
    }
   ],
   "source": [
    "help(print())"
   ]
  },
  {
   "cell_type": "code",
   "execution_count": 4,
   "metadata": {},
   "outputs": [
    {
     "name": "stdout",
     "output_type": "stream",
     "text": [
      "displaying value 100 1000 10000 1.2 sting abcd 672367 547885768 478768743\n"
     ]
    }
   ],
   "source": [
    "print(\"displaying value\",100,1000,10000,1.2,'sting','abcd',672367,547885768,478768743)"
   ]
  },
  {
   "cell_type": "code",
   "execution_count": 5,
   "metadata": {},
   "outputs": [
    {
     "name": "stdout",
     "output_type": "stream",
     "text": [
      "displaying value:::100:::1000:::10000:::1.2:::sting:::abcd:::672367:::547885768:::478768743\n"
     ]
    }
   ],
   "source": [
    "print(\"displaying value\",100,1000,10000,1.2,'sting','abcd',672367,547885768,478768743,sep=':::')"
   ]
  },
  {
   "cell_type": "code",
   "execution_count": 6,
   "metadata": {},
   "outputs": [
    {
     "name": "stdout",
     "output_type": "stream",
     "text": [
      "displaying value\n",
      "100\n",
      "1000\n",
      "10000\n",
      "1.2\n",
      "sting\n",
      "abcd\n",
      "672367\n",
      "547885768\n",
      "478768743\n"
     ]
    }
   ],
   "source": [
    "print(\"displaying value\",100,1000,10000,1.2,'sting','abcd',672367,547885768,478768743,sep=\"\\n\")"
   ]
  },
  {
   "cell_type": "code",
   "execution_count": 7,
   "metadata": {},
   "outputs": [
    {
     "name": "stdout",
     "output_type": "stream",
     "text": [
      "line 1\n",
      "line 2\n",
      "line 3\n"
     ]
    }
   ],
   "source": [
    "print('line 1')\n",
    "print('line 2')\n",
    "print('line 3')"
   ]
  },
  {
   "cell_type": "code",
   "execution_count": 8,
   "metadata": {},
   "outputs": [
    {
     "name": "stdout",
     "output_type": "stream",
     "text": [
      "line 1||line 2--line 3aa"
     ]
    }
   ],
   "source": [
    "print('line 1', end=\"||\")\n",
    "print('line 2',end='--')\n",
    "print('line 3',end ='aa')"
   ]
  },
  {
   "cell_type": "markdown",
   "metadata": {},
   "source": [
    "## input()\n"
   ]
  },
  {
   "cell_type": "code",
   "execution_count": 9,
   "metadata": {},
   "outputs": [
    {
     "name": "stdout",
     "output_type": "stream",
     "text": [
      "enter any value : 147\n"
     ]
    },
    {
     "data": {
      "text/plain": [
       "'147'"
      ]
     },
     "execution_count": 9,
     "metadata": {},
     "output_type": "execute_result"
    }
   ],
   "source": [
    "input('enter any value : ')"
   ]
  },
  {
   "cell_type": "code",
   "execution_count": 11,
   "metadata": {
    "scrolled": true
   },
   "outputs": [
    {
     "name": "stdout",
     "output_type": "stream",
     "text": [
      "apssdc\n"
     ]
    },
    {
     "data": {
      "text/plain": [
       "'apssdc'"
      ]
     },
     "execution_count": 11,
     "metadata": {},
     "output_type": "execute_result"
    }
   ],
   "source": [
    "input()"
   ]
  },
  {
   "cell_type": "code",
   "execution_count": 12,
   "metadata": {},
   "outputs": [
    {
     "name": "stdout",
     "output_type": "stream",
     "text": [
      "[1,2,4,5,6]\n"
     ]
    },
    {
     "data": {
      "text/plain": [
       "'[1,2,4,5,6]'"
      ]
     },
     "execution_count": 12,
     "metadata": {},
     "output_type": "execute_result"
    }
   ],
   "source": [
    "input()"
   ]
  },
  {
   "cell_type": "code",
   "execution_count": 13,
   "metadata": {},
   "outputs": [
    {
     "data": {
      "text/plain": [
       "'[1,2,4,5,6]'"
      ]
     },
     "execution_count": 13,
     "metadata": {},
     "output_type": "execute_result"
    }
   ],
   "source": [
    "_"
   ]
  },
  {
   "cell_type": "code",
   "execution_count": 14,
   "metadata": {},
   "outputs": [
    {
     "data": {
      "text/plain": [
       "7632"
      ]
     },
     "execution_count": 14,
     "metadata": {},
     "output_type": "execute_result"
    }
   ],
   "source": [
    "7632"
   ]
  },
  {
   "cell_type": "code",
   "execution_count": 15,
   "metadata": {},
   "outputs": [
    {
     "data": {
      "text/plain": [
       "7632"
      ]
     },
     "execution_count": 15,
     "metadata": {},
     "output_type": "execute_result"
    }
   ],
   "source": [
    "_"
   ]
  },
  {
   "cell_type": "markdown",
   "metadata": {},
   "source": [
    "## identifiers\n",
    "\n",
    "nothing but a variable which are used to represent values, classes, functons and methods\n",
    "\n",
    "rules :\n",
    "- identifiers cannot starts with dgits \n",
    "- it contains alphanumaric form Exp : a1,_a23, A1\n",
    "- it cannot contain any special characters other than \"__"
   ]
  },
  {
   "cell_type": "code",
   "execution_count": 16,
   "metadata": {},
   "outputs": [
    {
     "name": "stdout",
     "output_type": "stream",
     "text": [
      "enter A value :12543\n"
     ]
    }
   ],
   "source": [
    "a = input('enter A value :')"
   ]
  },
  {
   "cell_type": "code",
   "execution_count": 17,
   "metadata": {},
   "outputs": [
    {
     "data": {
      "text/plain": [
       "'12543'"
      ]
     },
     "execution_count": 17,
     "metadata": {},
     "output_type": "execute_result"
    }
   ],
   "source": [
    "a"
   ]
  },
  {
   "cell_type": "code",
   "execution_count": 18,
   "metadata": {},
   "outputs": [
    {
     "data": {
      "text/plain": [
       "str"
      ]
     },
     "execution_count": 18,
     "metadata": {},
     "output_type": "execute_result"
    }
   ],
   "source": [
    "type(a)"
   ]
  },
  {
   "cell_type": "markdown",
   "metadata": {},
   "source": [
    "### Type Conversion "
   ]
  },
  {
   "cell_type": "code",
   "execution_count": 20,
   "metadata": {},
   "outputs": [
    {
     "name": "stdout",
     "output_type": "stream",
     "text": [
      "<class 'str'> 12543\n"
     ]
    }
   ],
   "source": [
    "print(type(a),a)"
   ]
  },
  {
   "cell_type": "code",
   "execution_count": 21,
   "metadata": {},
   "outputs": [],
   "source": [
    "a = int(a)"
   ]
  },
  {
   "cell_type": "code",
   "execution_count": 22,
   "metadata": {},
   "outputs": [
    {
     "data": {
      "text/plain": [
       "int"
      ]
     },
     "execution_count": 22,
     "metadata": {},
     "output_type": "execute_result"
    }
   ],
   "source": [
    "type(a)"
   ]
  },
  {
   "cell_type": "code",
   "execution_count": 23,
   "metadata": {},
   "outputs": [],
   "source": [
    "b = '1234t'"
   ]
  },
  {
   "cell_type": "code",
   "execution_count": 24,
   "metadata": {},
   "outputs": [
    {
     "data": {
      "text/plain": [
       "str"
      ]
     },
     "execution_count": 24,
     "metadata": {},
     "output_type": "execute_result"
    }
   ],
   "source": [
    "type(b)"
   ]
  },
  {
   "cell_type": "code",
   "execution_count": 25,
   "metadata": {},
   "outputs": [
    {
     "ename": "ValueError",
     "evalue": "invalid literal for int() with base 10: '1234t'",
     "output_type": "error",
     "traceback": [
      "\u001b[1;31m---------------------------------------------------------------------------\u001b[0m",
      "\u001b[1;31mValueError\u001b[0m                                Traceback (most recent call last)",
      "\u001b[1;32m<ipython-input-25-07ae29993d50>\u001b[0m in \u001b[0;36m<module>\u001b[1;34m\u001b[0m\n\u001b[1;32m----> 1\u001b[1;33m \u001b[0mint\u001b[0m\u001b[1;33m(\u001b[0m\u001b[0mb\u001b[0m\u001b[1;33m)\u001b[0m\u001b[1;33m\u001b[0m\u001b[1;33m\u001b[0m\u001b[0m\n\u001b[0m",
      "\u001b[1;31mValueError\u001b[0m: invalid literal for int() with base 10: '1234t'"
     ]
    }
   ],
   "source": [
    "int(b)"
   ]
  },
  {
   "cell_type": "markdown",
   "metadata": {},
   "source": [
    "## key words\n",
    "#### characters into values"
   ]
  },
  {
   "cell_type": "code",
   "execution_count": 27,
   "metadata": {},
   "outputs": [
    {
     "data": {
      "text/plain": [
       "97"
      ]
     },
     "execution_count": 27,
     "metadata": {},
     "output_type": "execute_result"
    }
   ],
   "source": [
    "c = 'a'\n",
    "ord(c)"
   ]
  },
  {
   "cell_type": "code",
   "execution_count": 28,
   "metadata": {},
   "outputs": [
    {
     "data": {
      "text/plain": [
       "65"
      ]
     },
     "execution_count": 28,
     "metadata": {},
     "output_type": "execute_result"
    }
   ],
   "source": [
    "ord('A')"
   ]
  },
  {
   "cell_type": "code",
   "execution_count": 29,
   "metadata": {},
   "outputs": [
    {
     "data": {
      "text/plain": [
       "90"
      ]
     },
     "execution_count": 29,
     "metadata": {},
     "output_type": "execute_result"
    }
   ],
   "source": [
    "ord('Z')"
   ]
  },
  {
   "cell_type": "code",
   "execution_count": 30,
   "metadata": {},
   "outputs": [
    {
     "data": {
      "text/plain": [
       "'a'"
      ]
     },
     "execution_count": 30,
     "metadata": {},
     "output_type": "execute_result"
    }
   ],
   "source": [
    "chr(97)"
   ]
  },
  {
   "cell_type": "code",
   "execution_count": 31,
   "metadata": {},
   "outputs": [
    {
     "data": {
      "text/plain": [
       "'e'"
      ]
     },
     "execution_count": 31,
     "metadata": {},
     "output_type": "execute_result"
    }
   ],
   "source": [
    "chr(101)"
   ]
  },
  {
   "cell_type": "markdown",
   "metadata": {},
   "source": [
    "### Number  Systems  "
   ]
  },
  {
   "cell_type": "code",
   "execution_count": 34,
   "metadata": {},
   "outputs": [
    {
     "data": {
      "text/plain": [
       "'0b1010'"
      ]
     },
     "execution_count": 34,
     "metadata": {},
     "output_type": "execute_result"
    }
   ],
   "source": [
    "r = bin(10)\n",
    "r"
   ]
  },
  {
   "cell_type": "code",
   "execution_count": 35,
   "metadata": {},
   "outputs": [
    {
     "data": {
      "text/plain": [
       "str"
      ]
     },
     "execution_count": 35,
     "metadata": {},
     "output_type": "execute_result"
    }
   ],
   "source": [
    "type(r)"
   ]
  },
  {
   "cell_type": "code",
   "execution_count": 36,
   "metadata": {},
   "outputs": [
    {
     "data": {
      "text/plain": [
       "'0xa'"
      ]
     },
     "execution_count": 36,
     "metadata": {},
     "output_type": "execute_result"
    }
   ],
   "source": [
    "hex(10)"
   ]
  },
  {
   "cell_type": "code",
   "execution_count": 37,
   "metadata": {},
   "outputs": [
    {
     "data": {
      "text/plain": [
       "'0o12'"
      ]
     },
     "execution_count": 37,
     "metadata": {},
     "output_type": "execute_result"
    }
   ],
   "source": [
    "oct(10)"
   ]
  },
  {
   "cell_type": "code",
   "execution_count": 38,
   "metadata": {},
   "outputs": [
    {
     "data": {
      "text/plain": [
       "10"
      ]
     },
     "execution_count": 38,
     "metadata": {},
     "output_type": "execute_result"
    }
   ],
   "source": [
    "# bin to decimal \n",
    "int('1010',2)"
   ]
  },
  {
   "cell_type": "code",
   "execution_count": 39,
   "metadata": {},
   "outputs": [
    {
     "data": {
      "text/plain": [
       "520"
      ]
     },
     "execution_count": 39,
     "metadata": {},
     "output_type": "execute_result"
    }
   ],
   "source": [
    "# octl to deimal \n",
    "int('1010',8)"
   ]
  },
  {
   "cell_type": "code",
   "execution_count": 40,
   "metadata": {},
   "outputs": [
    {
     "data": {
      "text/plain": [
       "4112"
      ]
     },
     "execution_count": 40,
     "metadata": {},
     "output_type": "execute_result"
    }
   ],
   "source": [
    "# hexa to decimal \n",
    "int('1010', 16)"
   ]
  },
  {
   "cell_type": "code",
   "execution_count": 42,
   "metadata": {},
   "outputs": [],
   "source": [
    "# float \n",
    "a = 1.2334"
   ]
  },
  {
   "cell_type": "code",
   "execution_count": 43,
   "metadata": {},
   "outputs": [
    {
     "data": {
      "text/plain": [
       "float"
      ]
     },
     "execution_count": 43,
     "metadata": {},
     "output_type": "execute_result"
    }
   ],
   "source": [
    "type(a)"
   ]
  },
  {
   "cell_type": "code",
   "execution_count": 44,
   "metadata": {
    "scrolled": true
   },
   "outputs": [
    {
     "data": {
      "text/plain": [
       "100.0"
      ]
     },
     "execution_count": 44,
     "metadata": {},
     "output_type": "execute_result"
    }
   ],
   "source": [
    "float(100)"
   ]
  },
  {
   "cell_type": "code",
   "execution_count": 45,
   "metadata": {},
   "outputs": [
    {
     "ename": "NameError",
     "evalue": "name 'keywords' is not defined",
     "output_type": "error",
     "traceback": [
      "\u001b[1;31m---------------------------------------------------------------------------\u001b[0m",
      "\u001b[1;31mNameError\u001b[0m                                 Traceback (most recent call last)",
      "\u001b[1;32m<ipython-input-45-1eb9771c7f0a>\u001b[0m in \u001b[0;36m<module>\u001b[1;34m\u001b[0m\n\u001b[1;32m----> 1\u001b[1;33m \u001b[0mkeywords\u001b[0m\u001b[1;33m\u001b[0m\u001b[1;33m\u001b[0m\u001b[0m\n\u001b[0m",
      "\u001b[1;31mNameError\u001b[0m: name 'keywords' is not defined"
     ]
    }
   ],
   "source": [
    "keywords"
   ]
  },
  {
   "cell_type": "code",
   "execution_count": 47,
   "metadata": {},
   "outputs": [],
   "source": [
    "import keyword"
   ]
  },
  {
   "cell_type": "code",
   "execution_count": 86,
   "metadata": {},
   "outputs": [
    {
     "data": {
      "text/plain": [
       "['False',\n",
       " 'None',\n",
       " 'True',\n",
       " 'and',\n",
       " 'as',\n",
       " 'assert',\n",
       " 'async',\n",
       " 'await',\n",
       " 'break',\n",
       " 'class',\n",
       " 'continue',\n",
       " 'def',\n",
       " 'del',\n",
       " 'elif',\n",
       " 'else',\n",
       " 'except',\n",
       " 'finally',\n",
       " 'for',\n",
       " 'from',\n",
       " 'global',\n",
       " 'if',\n",
       " 'import',\n",
       " 'in',\n",
       " 'is',\n",
       " 'lambda',\n",
       " 'nonlocal',\n",
       " 'not',\n",
       " 'or',\n",
       " 'pass',\n",
       " 'raise',\n",
       " 'return',\n",
       " 'try',\n",
       " 'while',\n",
       " 'with',\n",
       " 'yield']"
      ]
     },
     "execution_count": 86,
     "metadata": {},
     "output_type": "execute_result"
    }
   ],
   "source": [
    "keyword.kwlist"
   ]
  },
  {
   "cell_type": "code",
   "execution_count": 49,
   "metadata": {},
   "outputs": [
    {
     "data": {
      "text/plain": [
       "['False',\n",
       " 'None',\n",
       " 'True',\n",
       " 'and',\n",
       " 'as',\n",
       " 'assert',\n",
       " 'async',\n",
       " 'await',\n",
       " 'break',\n",
       " 'class',\n",
       " 'continue',\n",
       " 'def',\n",
       " 'del',\n",
       " 'elif',\n",
       " 'else',\n",
       " 'except',\n",
       " 'finally',\n",
       " 'for',\n",
       " 'from',\n",
       " 'global',\n",
       " 'if',\n",
       " 'import',\n",
       " 'in',\n",
       " 'is',\n",
       " 'lambda',\n",
       " 'nonlocal',\n",
       " 'not',\n",
       " 'or',\n",
       " 'pass',\n",
       " 'raise',\n",
       " 'return',\n",
       " 'try',\n",
       " 'while',\n",
       " 'with',\n",
       " 'yield']"
      ]
     },
     "execution_count": 49,
     "metadata": {},
     "output_type": "execute_result"
    }
   ],
   "source": [
    "key"
   ]
  },
  {
   "cell_type": "markdown",
   "metadata": {},
   "source": [
    "### data types\n",
    "- numberd - int , float , camplex \n",
    "- char - strings\n",
    "- boolean - True , Flase\n",
    "- List \n",
    "- Tuples \n",
    "- Dict \n",
    "- set"
   ]
  },
  {
   "cell_type": "code",
   "execution_count": 50,
   "metadata": {},
   "outputs": [
    {
     "ename": "SyntaxError",
     "evalue": "invalid syntax (<ipython-input-50-536aa4f08c52>, line 1)",
     "output_type": "error",
     "traceback": [
      "\u001b[1;36m  File \u001b[1;32m\"<ipython-input-50-536aa4f08c52>\"\u001b[1;36m, line \u001b[1;32m1\u001b[0m\n\u001b[1;33m    type(2+3i)\u001b[0m\n\u001b[1;37m            ^\u001b[0m\n\u001b[1;31mSyntaxError\u001b[0m\u001b[1;31m:\u001b[0m invalid syntax\n"
     ]
    }
   ],
   "source": [
    "type(2+3i)"
   ]
  },
  {
   "cell_type": "code",
   "execution_count": 51,
   "metadata": {},
   "outputs": [],
   "source": [
    "import cmath "
   ]
  },
  {
   "cell_type": "code",
   "execution_count": 55,
   "metadata": {},
   "outputs": [],
   "source": [
    "a = complex(1+9)"
   ]
  },
  {
   "cell_type": "code",
   "execution_count": 56,
   "metadata": {},
   "outputs": [
    {
     "data": {
      "text/plain": [
       "(10+0j)"
      ]
     },
     "execution_count": 56,
     "metadata": {},
     "output_type": "execute_result"
    }
   ],
   "source": [
    "a"
   ]
  },
  {
   "cell_type": "code",
   "execution_count": 57,
   "metadata": {},
   "outputs": [
    {
     "data": {
      "text/plain": [
       "complex"
      ]
     },
     "execution_count": 57,
     "metadata": {},
     "output_type": "execute_result"
    }
   ],
   "source": [
    "type(a)"
   ]
  },
  {
   "cell_type": "code",
   "execution_count": 58,
   "metadata": {},
   "outputs": [
    {
     "data": {
      "text/plain": [
       "10.0"
      ]
     },
     "execution_count": 58,
     "metadata": {},
     "output_type": "execute_result"
    }
   ],
   "source": [
    "a.real"
   ]
  },
  {
   "cell_type": "code",
   "execution_count": 59,
   "metadata": {},
   "outputs": [
    {
     "data": {
      "text/plain": [
       "0.0"
      ]
     },
     "execution_count": 59,
     "metadata": {},
     "output_type": "execute_result"
    }
   ],
   "source": [
    "a.imag"
   ]
  },
  {
   "cell_type": "markdown",
   "metadata": {},
   "source": [
    "###  Boolean"
   ]
  },
  {
   "cell_type": "code",
   "execution_count": 60,
   "metadata": {},
   "outputs": [
    {
     "data": {
      "text/plain": [
       "True"
      ]
     },
     "execution_count": 60,
     "metadata": {},
     "output_type": "execute_result"
    }
   ],
   "source": [
    "True"
   ]
  },
  {
   "cell_type": "code",
   "execution_count": 61,
   "metadata": {},
   "outputs": [
    {
     "data": {
      "text/plain": [
       "False"
      ]
     },
     "execution_count": 61,
     "metadata": {},
     "output_type": "execute_result"
    }
   ],
   "source": [
    "False"
   ]
  },
  {
   "cell_type": "markdown",
   "metadata": {},
   "source": [
    "### Operators in python \n",
    "1. Airthemetical \n",
    "2. Logical\n",
    "3. Relational Operators \n",
    " \n",
    "#### 1. Airthemetical \n",
    "    1. addition `+`\n",
    "    2. Subtraction `-`\n",
    "    3. Multipication `*`\n",
    "    4. division `/` --> normal division `//` --> floor division\n",
    "    5. mudulus `%`\n",
    "    6. power `**`"
   ]
  },
  {
   "cell_type": "code",
   "execution_count": 62,
   "metadata": {},
   "outputs": [
    {
     "name": "stdout",
     "output_type": "stream",
     "text": [
      "12\n",
      "8\n",
      "5.0\n",
      "20\n",
      "5\n",
      "100\n"
     ]
    }
   ],
   "source": [
    "val1 = 10\n",
    "val2 = 2\n",
    "print(val1 + val2)\n",
    "print(val1 - val2)\n",
    "print(val1 / val2)\n",
    "print(val1 * val2)\n",
    "print(val1 // val2)\n",
    "print(val1 ** val2)"
   ]
  },
  {
   "cell_type": "markdown",
   "metadata": {},
   "source": [
    "### Logical Operators \n",
    "- And\n",
    "- Or\n",
    "- Not\n"
   ]
  },
  {
   "cell_type": "code",
   "execution_count": 63,
   "metadata": {},
   "outputs": [],
   "source": [
    "a = 100\n",
    "b = 200"
   ]
  },
  {
   "cell_type": "code",
   "execution_count": 64,
   "metadata": {},
   "outputs": [
    {
     "data": {
      "text/plain": [
       "200"
      ]
     },
     "execution_count": 64,
     "metadata": {},
     "output_type": "execute_result"
    }
   ],
   "source": [
    "a and b"
   ]
  },
  {
   "cell_type": "code",
   "execution_count": 65,
   "metadata": {},
   "outputs": [
    {
     "data": {
      "text/plain": [
       "True"
      ]
     },
     "execution_count": 65,
     "metadata": {},
     "output_type": "execute_result"
    }
   ],
   "source": [
    "True and True"
   ]
  },
  {
   "cell_type": "code",
   "execution_count": 67,
   "metadata": {},
   "outputs": [
    {
     "data": {
      "text/plain": [
       "False"
      ]
     },
     "execution_count": 67,
     "metadata": {},
     "output_type": "execute_result"
    }
   ],
   "source": [
    "False and True"
   ]
  },
  {
   "cell_type": "code",
   "execution_count": 68,
   "metadata": {},
   "outputs": [],
   "source": [
    "c = 0"
   ]
  },
  {
   "cell_type": "code",
   "execution_count": 71,
   "metadata": {},
   "outputs": [
    {
     "data": {
      "text/plain": [
       "0"
      ]
     },
     "execution_count": 71,
     "metadata": {},
     "output_type": "execute_result"
    }
   ],
   "source": [
    "a and c"
   ]
  },
  {
   "cell_type": "code",
   "execution_count": 72,
   "metadata": {},
   "outputs": [
    {
     "name": "stdout",
     "output_type": "stream",
     "text": [
      "False\n",
      "False\n"
     ]
    }
   ],
   "source": [
    "print(True and False)\n",
    "print(False and True)"
   ]
  },
  {
   "cell_type": "markdown",
   "metadata": {},
   "source": [
    "![aaa](data:image/png;base64,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)"
   ]
  },
  {
   "cell_type": "code",
   "execution_count": 73,
   "metadata": {},
   "outputs": [
    {
     "name": "stderr",
     "output_type": "stream",
     "text": [
      "'[]' is not recognized as an internal or external command,\n",
      "operable program or batch file.\n"
     ]
    }
   ],
   "source": [
    "![]()"
   ]
  },
  {
   "cell_type": "code",
   "execution_count": 75,
   "metadata": {},
   "outputs": [],
   "source": [
    "v = 'a'*100"
   ]
  },
  {
   "cell_type": "code",
   "execution_count": 84,
   "metadata": {},
   "outputs": [],
   "source": [
    "b = 76762564352463563572656753472367*121239787878786767676565676767676775666564587878787788787787767676766776"
   ]
  },
  {
   "cell_type": "code",
   "execution_count": 85,
   "metadata": {},
   "outputs": [
    {
     "data": {
      "text/plain": [
       "9306677019124401178675683633962134498426310157069743237066660142477955824746814706199447936609619678792"
      ]
     },
     "execution_count": 85,
     "metadata": {},
     "output_type": "execute_result"
    }
   ],
   "source": [
    "b"
   ]
  },
  {
   "cell_type": "markdown",
   "metadata": {},
   "source": [
    "![image](img.png)"
   ]
  },
  {
   "cell_type": "code",
   "execution_count": 87,
   "metadata": {},
   "outputs": [],
   "source": [
    "a = 100"
   ]
  },
  {
   "cell_type": "code",
   "execution_count": 88,
   "metadata": {},
   "outputs": [],
   "source": [
    "n = 100"
   ]
  },
  {
   "cell_type": "code",
   "execution_count": 90,
   "metadata": {},
   "outputs": [
    {
     "data": {
      "text/plain": [
       "1807154656"
      ]
     },
     "execution_count": 90,
     "metadata": {},
     "output_type": "execute_result"
    }
   ],
   "source": [
    "id(a)"
   ]
  },
  {
   "cell_type": "code",
   "execution_count": 91,
   "metadata": {},
   "outputs": [
    {
     "data": {
      "text/plain": [
       "1807154656"
      ]
     },
     "execution_count": 91,
     "metadata": {},
     "output_type": "execute_result"
    }
   ],
   "source": [
    "id(n)"
   ]
  },
  {
   "cell_type": "code",
   "execution_count": null,
   "metadata": {},
   "outputs": [],
   "source": []
  },
  {
   "cell_type": "markdown",
   "metadata": {},
   "source": [
    "<a href=\"https://www.w3schools.com\">Visit W3Schools.com!</a>"
   ]
  },
  {
   "cell_type": "markdown",
   "metadata": {},
   "source": [
    "<table>\n",
    "  <tr>\n",
    "    <th>Month</th>\n",
    "    <th>Savings</th>\n",
    "  </tr>\n",
    "  <tr>\n",
    "    <td>January</td>\n",
    "    <td>$100</td>\n",
    "  </tr>\n",
    "</table>\n",
    "\n"
   ]
  },
  {
   "cell_type": "code",
   "execution_count": null,
   "metadata": {},
   "outputs": [],
   "source": []
  }
 ],
 "metadata": {
  "kernelspec": {
   "display_name": "Python 3",
   "language": "python",
   "name": "python3"
  },
  "language_info": {
   "codemirror_mode": {
    "name": "ipython",
    "version": 3
   },
   "file_extension": ".py",
   "mimetype": "text/x-python",
   "name": "python",
   "nbconvert_exporter": "python",
   "pygments_lexer": "ipython3",
   "version": "3.8.3"
  }
 },
 "nbformat": 4,
 "nbformat_minor": 4
}
